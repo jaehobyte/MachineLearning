{
  "nbformat": 4,
  "nbformat_minor": 0,
  "metadata": {
    "colab": {
      "name": "Untitled34.ipynb",
      "provenance": []
    },
    "kernelspec": {
      "name": "python3",
      "display_name": "Python 3"
    },
    "language_info": {
      "name": "python"
    }
  },
  "cells": [
    {
      "cell_type": "code",
      "execution_count": 1,
      "metadata": {
        "colab": {
          "base_uri": "https://localhost:8080/"
        },
        "id": "Ud3FGfriVwzJ",
        "outputId": "e7e49d99-1643-4de5-a8d2-b13ef550bea0"
      },
      "outputs": [
        {
          "output_type": "stream",
          "name": "stdout",
          "text": [
            "KMeans()군집화 적용...\n",
            "군집화 결과 labels : [1 1 1 1 1 1 1 1 1 1 1 1 1 1 1 1 1 1 1 1 1 1 1 1 1 1 1 1 1 1 1 1 1 1 1 1 1\n",
            " 1 1 1 1 1 1 1 1 1 1 1 1 1 0 0 2 0 0 0 0 0 0 0 0 0 0 0 0 0 0 0 0 0 0 0 0 0\n",
            " 0 0 0 2 0 0 0 0 0 0 0 0 0 0 0 0 0 0 0 0 0 0 0 0 0 0 2 0 2 2 2 2 0 2 2 2 2\n",
            " 2 2 0 0 2 2 2 2 0 2 0 2 0 2 2 0 0 2 2 2 2 2 0 2 2 2 2 0 2 2 2 0 2 2 2 0 2\n",
            " 2 0]\n"
          ]
        }
      ],
      "source": [
        "from sklearn import cluster\n",
        "from sklearn.datasets import load_iris\n",
        "import numpy as np\n",
        "\n",
        "iris = load_iris()\n",
        "k = len(iris.target_names)\n",
        "\n",
        "print('KMeans()군집화 적용...')\n",
        "model = cluster.KMeans(n_clusters=k)\n",
        "model.fit(iris.data)\n",
        "labels = model.predict(iris.data)\n",
        "print('군집화 결과 labels :', labels)\n",
        "a_counts = np.bincount(labels[:50])\n",
        "b_counts = np.bincount(labels[50:100])\n",
        "c_counts = np.bincount(labels[100:])\n"
      ]
    },
    {
      "cell_type": "code",
      "source": [
        "d = { 0: np.argmax(a_counts), 1: np.argmax(b_counts), 2 : np.argmax(c_counts)}\n",
        "new_labels = np.copy(labels)\n",
        "for old, new in d.items():\n",
        "  new_labels[labels == old] = new\n",
        "\n",
        "print('다시 레이블링을 한 후의 new_labels =', new_labels)"
      ],
      "metadata": {
        "colab": {
          "base_uri": "https://localhost:8080/"
        },
        "id": "ggwM2_vEbP7w",
        "outputId": "951b2e99-54ba-4eaa-e83f-9a422de9ef47"
      },
      "execution_count": 3,
      "outputs": [
        {
          "output_type": "stream",
          "name": "stdout",
          "text": [
            "다시 레이블링을 한 후의 new_labels = [0 0 0 0 0 0 0 0 0 0 0 0 0 0 0 0 0 0 0 0 0 0 0 0 0 0 0 0 0 0 0 0 0 0 0 0 0\n",
            " 0 0 0 0 0 0 0 0 0 0 0 0 0 1 1 2 1 1 1 1 1 1 1 1 1 1 1 1 1 1 1 1 1 1 1 1 1\n",
            " 1 1 1 2 1 1 1 1 1 1 1 1 1 1 1 1 1 1 1 1 1 1 1 1 1 1 2 1 2 2 2 2 1 2 2 2 2\n",
            " 2 2 1 1 2 2 2 2 1 2 1 2 1 2 2 1 1 2 2 2 2 2 1 2 2 2 2 1 2 2 2 1 2 2 2 1 2\n",
            " 2 1]\n"
          ]
        }
      ]
    },
    {
      "cell_type": "code",
      "source": [
        "from sklearn.metrics import accuracy_score\n",
        "print('iris 데이터의 군집화 정확도:', accuracy_score(iris.target, new_labels))"
      ],
      "metadata": {
        "colab": {
          "base_uri": "https://localhost:8080/"
        },
        "id": "Erd0remvbpOp",
        "outputId": "d1986085-06cc-409c-b03f-0c1949b8dc67"
      },
      "execution_count": 4,
      "outputs": [
        {
          "output_type": "stream",
          "name": "stdout",
          "text": [
            "iris 데이터의 군집화 정확도: 0.8933333333333333\n"
          ]
        }
      ]
    },
    {
      "cell_type": "code",
      "source": [
        ""
      ],
      "metadata": {
        "id": "z-Hk5s_8byHM"
      },
      "execution_count": null,
      "outputs": []
    }
  ]
}