{
  "nbformat": 4,
  "nbformat_minor": 0,
  "metadata": {
    "colab": {
      "name": "Untitled41.ipynb",
      "provenance": []
    },
    "kernelspec": {
      "name": "python3",
      "display_name": "Python 3"
    },
    "language_info": {
      "name": "python"
    }
  },
  "cells": [
    {
      "cell_type": "code",
      "execution_count": 26,
      "metadata": {
        "id": "dfDkUfeXbINf"
      },
      "outputs": [],
      "source": [
        "import matplotlib.pyplot as plt\n",
        "import numpy as np\n",
        "import pandas as pd\n",
        "\n",
        "#닥스훈트 \n",
        "dach_length = [75, 77, 83, 81, 73, 99, 72, 83]\n",
        "dach_height = [24, 29, 19, 32, 21, 22, 19, 34]\n",
        "\n",
        "#사모예드\n",
        "samo_length = [76, 78, 82, 88, 76, 83, 81, 89]\n",
        "samo_height = [55, 58, 53, 54, 61, 52, 57, 64]\n",
        "\n",
        "#말티즈\n",
        "mal_length = [35, 39, 38, 41, 30, 57, 41, 35]\n",
        "mal_height = [23, 26, 19, 30, 21, 24, 28, 20]\n",
        "\n",
        "d_data = np.column_stack((dach_length, dach_height))\n",
        "s_data = np.column_stack((samo_length, samo_height))\n",
        "m_data = np.column_stack((mal_length, mal_height))                                  "
      ]
    },
    {
      "cell_type": "code",
      "source": [
        "d_data_df = pd.DataFrame(d_data)\n",
        "d_label = np.zeros(len(d_data))\n",
        "\n",
        "s_data_df = pd.DataFrame(s_data)\n",
        "s_label = np.ones(len(s_data))\n",
        "\n",
        "m_data_df = pd.DataFrame(m_data)\n",
        "m_label = np.full(len(m_data),2) #array를 특정 수로 채워 생성"
      ],
      "metadata": {
        "id": "Uem43TKYpWz2"
      },
      "execution_count": 27,
      "outputs": []
    },
    {
      "cell_type": "code",
      "source": [
        "plt.scatter(dach_length, dach_height, c='red', label='Dachshund')\n",
        "plt.scatter(samo_length, samo_height, c='blue', marker='^', label='Samoyed')\n",
        "plt.scatter(mal_length, mal_height, c='green', label='Maltese')\n",
        "plt.xlabel('Length')\n",
        "plt.ylabel('Height')\n",
        "plt.title('Dog Size')\n",
        "plt.legend(loc='upper left')\n",
        "plt.show()\n"
      ],
      "metadata": {
        "id": "wOWYQnamoVmP",
        "outputId": "26373304-390b-4be5-8953-9c66b8184632",
        "colab": {
          "base_uri": "https://localhost:8080/",
          "height": 295
        }
      },
      "execution_count": 28,
      "outputs": [
        {
          "output_type": "display_data",
          "data": {
            "text/plain": [
              "<Figure size 432x288 with 1 Axes>"
            ],
            "image/png": "[encoded data removed]"
          },
          "metadata": {
            "needs_background": "light"
          }
        }
      ]
    },
    {
      "cell_type": "code",
      "source": [
        "print('닥스훈트(0) : ', d_data.tolist())\n",
        "print('사모예드(1) : ', s_data.tolist())\n",
        "print('말티즈(2) : ', m_data.tolist())"
      ],
      "metadata": {
        "colab": {
          "base_uri": "https://localhost:8080/"
        },
        "id": "Tmwa8sxKclvJ",
        "outputId": "47ca7d16-bc39-4d37-f639-63668cb4ea44"
      },
      "execution_count": 29,
      "outputs": [
        {
          "output_type": "stream",
          "name": "stdout",
          "text": [
            "닥스훈트(0) :  [[75, 24], [77, 29], [83, 19], [81, 32], [73, 21], [99, 22], [72, 19], [83, 34]]\n",
            "사모예드(1) :  [[76, 55], [78, 58], [82, 53], [88, 54], [76, 61], [83, 52], [81, 57], [89, 64]]\n",
            "말티즈(2) :  [[35, 23], [39, 26], [38, 19], [41, 30], [30, 21], [57, 24], [41, 28], [35, 20]]\n"
          ]
        }
      ]
    },
    {
      "cell_type": "code",
      "source": [
        "from sklearn.neighbors import KNeighborsClassifier\n",
        "from sklearn import metrics\n",
        "\n",
        "dogs = np.concatenate((d_data, s_data, m_data))\n",
        "labels = np.concatenate((d_label, s_label, m_label))\n",
        "\n",
        "dog_classes = {0:'Dachshund', 1:'Samoyed', 2:'maltese'}\n",
        "dog_classes[0]"
      ],
      "metadata": {
        "id": "oq4wmzhgcndo",
        "colab": {
          "base_uri": "https://localhost:8080/",
          "height": 35
        },
        "outputId": "b607c370-5091-4bc7-e6e3-fea5af9daf88"
      },
      "execution_count": 30,
      "outputs": [
        {
          "output_type": "execute_result",
          "data": {
            "text/plain": [
              "'Dachshund'"
            ],
            "application/vnd.google.colaboratory.intrinsic+json": {
              "type": "string"
            }
          },
          "metadata": {},
          "execution_count": 30
        }
      ]
    },
    {
      "cell_type": "code",
      "source": [
        "def classification(k,data) :  \n",
        "  knn = KNeighborsClassifier(n_neighbors = k)\n",
        "  knn.fit(dogs, labels)\n",
        "  y_pred_all = knn.predict(data)\n",
        "  return y_pred_all"
      ],
      "metadata": {
        "id": "wIW1l6yw-Iiq"
      },
      "execution_count": 31,
      "outputs": []
    },
    {
      "cell_type": "code",
      "source": [
        "y_pred_all = classification(3, dogs)"
      ],
      "metadata": {
        "id": "Z3A2LkTLL54r"
      },
      "execution_count": 32,
      "outputs": []
    },
    {
      "cell_type": "code",
      "source": [
        "from sklearn.metrics import confusion_matrix\n",
        "confusion_matrix(labels, y_pred_all)"
      ],
      "metadata": {
        "colab": {
          "base_uri": "https://localhost:8080/"
        },
        "id": "Aqxsx4Vy71rq",
        "outputId": "c12eddfe-77e1-4ed4-b303-43abdb6c503a"
      },
      "execution_count": 33,
      "outputs": [
        {
          "output_type": "execute_result",
          "data": {
            "text/plain": [
              "array([[8, 0, 0],\n",
              "       [0, 8, 0],\n",
              "       [1, 0, 7]])"
            ]
          },
          "metadata": {},
          "execution_count": 33
        }
      ]
    },
    {
      "cell_type": "code",
      "source": [
        "A = [[58, 30]]\n",
        "B = [[80, 26]]\n",
        "C = [[80, 41]]\n",
        "D = [[75, 55]]\n",
        "A[0]"
      ],
      "metadata": {
        "id": "Zg5hSy1-833U",
        "colab": {
          "base_uri": "https://localhost:8080/"
        },
        "outputId": "ce7ef49b-1e91-4e9e-a648-5dccbe4872fa"
      },
      "execution_count": 34,
      "outputs": [
        {
          "output_type": "execute_result",
          "data": {
            "text/plain": [
              "[58, 30]"
            ]
          },
          "metadata": {},
          "execution_count": 34
        }
      ]
    },
    {
      "cell_type": "code",
      "source": [
        "sA = classification(7, A)\n",
        "sA"
      ],
      "metadata": {
        "id": "ujeFARr8-lgb",
        "colab": {
          "base_uri": "https://localhost:8080/"
        },
        "outputId": "8497058a-12b6-4ac7-926c-a6e6e3e42d39"
      },
      "execution_count": 35,
      "outputs": [
        {
          "output_type": "execute_result",
          "data": {
            "text/plain": [
              "array([0.])"
            ]
          },
          "metadata": {},
          "execution_count": 35
        }
      ]
    },
    {
      "cell_type": "code",
      "source": [
        "print('A 데이터 분류결과\\nA ',A,' : n_neighbors가 3 일때 : ',dog_classes[classification(3, A)[0]],'\\nA',A,' : n_neighbors가 5 일때 : ',dog_classes[classification(5, A)[0]],'\\nA',A,' : n_neighbors가 7 일때 : ',dog_classes[classification(7, A)[0]])\n",
        "print('B 데이터 분류결과\\nB ',B,' : n_neighbors가 3 일때 : ',dog_classes[classification(3, B)[0]],'\\nB',B,' : n_neighbors가 5 일때 : ',dog_classes[classification(5, B)[0]],'\\nB',B,' : n_neighbors가 7 일때 : ',dog_classes[classification(7, B)[0]])\n",
        "print('C 데이터 분류결과\\nC ',C,' : n_neighbors가 3 일때 : ',dog_classes[classification(3, C)[0]],'\\nC',C,' : n_neighbors가 5 일때 : ',dog_classes[classification(5, C)[0]],'\\nC',C,' : n_neighbors가 7 일때 : ',dog_classes[classification(7, C)[0]])\n",
        "print('D 데이터 분류결과\\nD ',D,' : n_neighbors가 3 일때 : ',dog_classes[classification(3, D)[0]],'\\nD',D,' : n_neighbors가 5 일때 : ',dog_classes[classification(5, D)[0]],'\\nD',D,' : n_neighbors가 7 일때 : ',dog_classes[classification(7, D)[0]])\n"
      ],
      "metadata": {
        "colab": {
          "base_uri": "https://localhost:8080/"
        },
        "id": "-Yl-R8ppMI1O",
        "outputId": "608d544d-5207-41c5-b79a-00a1a6a2f9a3"
      },
      "execution_count": 36,
      "outputs": [
        {
          "output_type": "stream",
          "name": "stdout",
          "text": [
            "A 데이터 분류결과\n",
            "A  [[58, 30]]  : n_neighbors가 3 일때 :  maltese \n",
            "A [[58, 30]]  : n_neighbors가 5 일때 :  maltese \n",
            "A [[58, 30]]  : n_neighbors가 7 일때 :  Dachshund\n",
            "B 데이터 분류결과\n",
            "B  [[80, 26]]  : n_neighbors가 3 일때 :  Dachshund \n",
            "B [[80, 26]]  : n_neighbors가 5 일때 :  Dachshund \n",
            "B [[80, 26]]  : n_neighbors가 7 일때 :  Dachshund\n",
            "C 데이터 분류결과\n",
            "C  [[80, 41]]  : n_neighbors가 3 일때 :  Dachshund \n",
            "C [[80, 41]]  : n_neighbors가 5 일때 :  Dachshund \n",
            "C [[80, 41]]  : n_neighbors가 7 일때 :  Samoyed\n",
            "D 데이터 분류결과\n",
            "D  [[75, 55]]  : n_neighbors가 3 일때 :  Samoyed \n",
            "D [[75, 55]]  : n_neighbors가 5 일때 :  Samoyed \n",
            "D [[75, 55]]  : n_neighbors가 7 일때 :  Samoyed\n"
          ]
        }
      ]
    },
    {
      "cell_type": "code",
      "source": [
        "#5.4 위 결과로 보아 위의 데이터 중에서 k값에 영향을 받지 않는 데이터는 무엇이며 그 이유는 무엇일지 서술해보자\n",
        "#사모예드가 영향을 받지 않는다, 그 이유는 사모예드의 데이터값이 다른 데이터값보다 더 밀집되어있기때문인가..? to be continue"
      ],
      "metadata": {
        "id": "sZ58IIDmMUfu"
      },
      "execution_count": 37,
      "outputs": []
    },
    {
      "cell_type": "code",
      "source": [
        "plt.scatter(dach_length, dach_height, c='red', label='Dachshund')\n",
        "plt.scatter(samo_length, samo_height, c='blue', marker='^', label='Samoyed')\n",
        "plt.scatter(mal_length, mal_height, c='green', label='Maltese')\n",
        "plt.scatter(A[0][0],A[0][1], c='purple', s=500, marker='o', label='A')\n",
        "plt.scatter(B[0][0],B[0][1], c='skyblue', s=500, marker='o', label='B')\n",
        "plt.scatter(C[0][0],C[0][1], c='grey', s=500, marker='o', label='C')\n",
        "plt.scatter(D[0][0],D[0][1], c='green', s=500, marker='o', label='D')\n",
        "plt.xlabel('Length')\n",
        "plt.ylabel('Height')\n",
        "plt.title('Dog Size')\n",
        "plt.legend(loc='upper left')\n",
        "plt.show()"
      ],
      "metadata": {
        "colab": {
          "base_uri": "https://localhost:8080/",
          "height": 295
        },
        "id": "KUTPvHXFoa_Y",
        "outputId": "01773a47-4e14-4036-8c79-24f5e205ec60"
      },
      "execution_count": 38,
      "outputs": [
        {
          "output_type": "display_data",
          "data": {
            "text/plain": [
              "<Figure size 432x288 with 1 Axes>"
            ],
            "image/png": "[encoded data removed]"
          },
          "metadata": {
            "needs_background": "light"
          }
        }
      ]
    },
    {
      "cell_type": "code",
      "source": [
        "dogs_sum = np.concatenate((dogs,A,B,C,D))\n",
        "dogs_sum"
      ],
      "metadata": {
        "colab": {
          "base_uri": "https://localhost:8080/"
        },
        "id": "vjnQg0Zupe22",
        "outputId": "07ea1232-2b46-4fd0-db26-0f5c82b4caf1"
      },
      "execution_count": 40,
      "outputs": [
        {
          "output_type": "execute_result",
          "data": {
            "text/plain": [
              "array([[75, 24],\n",
              "       [77, 29],\n",
              "       [83, 19],\n",
              "       [81, 32],\n",
              "       [73, 21],\n",
              "       [99, 22],\n",
              "       [72, 19],\n",
              "       [83, 34],\n",
              "       [76, 55],\n",
              "       [78, 58],\n",
              "       [82, 53],\n",
              "       [88, 54],\n",
              "       [76, 61],\n",
              "       [83, 52],\n",
              "       [81, 57],\n",
              "       [89, 64],\n",
              "       [35, 23],\n",
              "       [39, 26],\n",
              "       [38, 19],\n",
              "       [41, 30],\n",
              "       [30, 21],\n",
              "       [57, 24],\n",
              "       [41, 28],\n",
              "       [35, 20],\n",
              "       [58, 30],\n",
              "       [80, 26],\n",
              "       [80, 41],\n",
              "       [75, 55]])"
            ]
          },
          "metadata": {},
          "execution_count": 40
        }
      ]
    },
    {
      "cell_type": "code",
      "source": [
        "from sklearn import cluster\n",
        "\n",
        "def  kmeans_predict_plot(x,k):\n",
        "  model = cluster.KMeans(n_clusters=k)\n",
        "  model.fit(x)\n",
        "  labels = model.predict(x)\n",
        "  colors = np.array(['red','green','blue','magenta'])\n",
        "  plt.scatter(x[:,0],x[:,1], color = colors[labels])\n",
        "\n",
        "kmeans_predict_plot(dogs_sum, k=1)\n",
        "plt.show()\n",
        "kmeans_predict_plot(dogs_sum, k=2)\n",
        "plt.show()\n",
        "kmeans_predict_plot(dogs_sum, k=3)\n",
        "plt.show()\n",
        "kmeans_predict_plot(dogs_sum, k=4)\n",
        "plt.show()\n",
        "\n",
        "#추후 subplot을 이용해서 시각화를 예쁘게 해야지,,"
      ],
      "metadata": {
        "colab": {
          "base_uri": "https://localhost:8080/",
          "height": 1000
        },
        "id": "V3HvcGOmqay9",
        "outputId": "3bc92a0e-b919-4d86-b25c-c7c5a6472b3a"
      },
      "execution_count": 62,
      "outputs": [
        {
          "output_type": "display_data",
          "data": {
            "text/plain": [
              "<Figure size 432x288 with 1 Axes>"
            ],
            "image/png": "[encoded data removed]"
          },
          "metadata": {
            "needs_background": "light"
          }
        },
        {
          "output_type": "display_data",
          "data": {
            "text/plain": [
              "<Figure size 432x288 with 1 Axes>"
            ],
            "image/png": "[encoded data removed]"
          },
          "metadata": {
            "needs_background": "light"
          }
        },
        {
          "output_type": "display_data",
          "data": {
            "text/plain": [
              "<Figure size 432x288 with 1 Axes>"
            ],
            "image/png": "[encoded data removed]"
          },
          "metadata": {
            "needs_background": "light"
          }
        },
        {
          "output_type": "display_data",
          "data": {
            "text/plain": [
              "<Figure size 432x288 with 1 Axes>"
            ],
            "image/png": "[encoded data removed]"
          },
          "metadata": {
            "needs_background": "light"
          }
        }
      ]
    },
    {
      "cell_type": "code",
      "source": [
        ""
      ],
      "metadata": {
        "id": "uKLjvhU3rqjV"
      },
      "execution_count": null,
      "outputs": []
    }
  ]
}